{
 "cells": [
  {
   "cell_type": "markdown",
   "metadata": {},
   "source": [
    "# Classification of Breast Cancer Tumors  \n",
    "Mike Kelly  "
   ]
  },
  {
   "cell_type": "markdown",
   "metadata": {},
   "source": [
    "## Introduction\n",
    "[Statistically](https://www.breastcancer.org/symptoms/understand_bc/statistics), breast cancer is the second leading cause of cancer death in women. The two most significant risk factors leading to breast cancer are *sex* and *age*. Other factors include:\n",
    " - Family history\n",
    " - Genetics\n",
    " - Weight\n",
    " \n",
    "This study will classify breast cancer tumor attributes and predict whether a tumor is benign or malignant. \n",
    "\n",
    "![Logo](https://www.breastcancer.org/assets/logo-bco-print-64e3a3bd70d403bcddfd7c365c31800f692ef8d6d545548c978b812b69ed1e22.png)"
   ]
  },
  {
   "cell_type": "markdown",
   "metadata": {},
   "source": [
    "## Setup"
   ]
  },
  {
   "cell_type": "code",
   "execution_count": 17,
   "metadata": {},
   "outputs": [],
   "source": [
    "# packages\n",
    "import pandas as pd\n",
    "import pandas_profiling as pp\n",
    "import numpy as np\n",
    "import matplotlib.pyplot as plt\n",
    "import pickle\n",
    "\n",
    "# models\n",
    "from sklearn.linear_model import LogisticRegression\n",
    "from sklearn.neighbors import KNeighborsClassifier\n",
    "from sklearn.ensemble import RandomForestClassifier\n",
    "from sklearn.naive_bayes import GaussianNB\n",
    "from sklearn.svm import SVC\n",
    "\n",
    "# metrics\n",
    "from sklearn.model_selection import cross_validate\n",
    "from sklearn.model_selection import KFold\n",
    "from sklearn.model_selection import train_test_split\n",
    "from sklearn.model_selection import RandomizedSearchCV\n",
    "from skopt import BayesSearchCV\n",
    "from sklearn.metrics import plot_confusion_matrix, plot_roc_curve"
   ]
  },
  {
   "cell_type": "markdown",
   "metadata": {},
   "source": [
    "## Load Data"
   ]
  },
  {
   "cell_type": "code",
   "execution_count": 2,
   "metadata": {},
   "outputs": [],
   "source": [
    "columns = ['sample', 'thickness', 'size_unif', 'shape_unif', 'marginal_adhesion', 'epithelial_cell_size', 'bare_nuclei', 'bland_chromatin', 'normal_nucleoli', 'mitoses', 'class']\n",
    "bc_raw = pd.read_csv(\"data/breast-cancer-wisconsin.data\", names=columns, na_values=['?'])"
   ]
  },
  {
   "cell_type": "markdown",
   "metadata": {},
   "source": [
    "## Data Profiling"
   ]
  },
  {
   "cell_type": "code",
   "execution_count": 3,
   "metadata": {},
   "outputs": [],
   "source": [
    "# report = pp.ProfileReport(bc_raw, title=\"Breast Cancer Profile Report\", progress_bar=False)\n",
    "# report.to_file(\"DataProfile.html\")"
   ]
  },
  {
   "cell_type": "markdown",
   "metadata": {},
   "source": [
    "Uncomment and run the two statements above to regenerate the profile report.  \n",
    "Shift + right-click [here](./DataProfile.html) and choose \"Open link in new tab\" to view the profile report. Opening the report in a Jupyter tab will disable the interactive features of the report."
   ]
  },
  {
   "cell_type": "markdown",
   "metadata": {},
   "source": [
    "### Profile Conclusions\n",
    "- Remove eight duplicate rows\n",
    "- Convert bare_nuclei to numeric\n",
    "- Class is unbalanced\n",
    "- Shape and Size uniformity are highly correlated"
   ]
  },
  {
   "cell_type": "markdown",
   "metadata": {},
   "source": [
    "## Data Cleansing"
   ]
  },
  {
   "cell_type": "markdown",
   "metadata": {},
   "source": [
    "Before performing any data cleansing operations, let's make a copy of bc_raw"
   ]
  },
  {
   "cell_type": "code",
   "execution_count": 4,
   "metadata": {},
   "outputs": [],
   "source": [
    "bc_clean = bc_raw.copy()"
   ]
  },
  {
   "cell_type": "markdown",
   "metadata": {},
   "source": [
    "**Missing Values**  \n",
    "By running the unique() method on bare_nuclei, we find that there are '?' characters in the column. These were picked up as characters and thus the column was cast as type object.   \n",
    "```\n",
    "bc_raw['bare_nuclei'].unique()  \n",
    "array([ 1., 10.,  2.,  4.,  3.,  9.,  7., '?',  5.,  8.,  6.])  \n",
    "```\n",
    "By adding the na_values parameter to the load_csv() method above, Pandas will recognize the ?s as NaNs and cast the column as a float64. A rerun of the profile report now shows there are 16 missing values - all in the bare_nuclei column. For this example, we will drop those rows as opposed to imputing the values in some way."
   ]
  },
  {
   "cell_type": "code",
   "execution_count": 5,
   "metadata": {},
   "outputs": [
    {
     "name": "stdout",
     "output_type": "stream",
     "text": [
      "(683, 11)\n"
     ]
    }
   ],
   "source": [
    "bc_clean.dropna(inplace=True)\n",
    "print(bc_clean.shape)"
   ]
  },
  {
   "cell_type": "markdown",
   "metadata": {},
   "source": [
    "**Duplicates**  \n",
    "The profile report says there are eight duplicate rows. However, the duplicate criterion incudes the sample ID. Since we will not be using sample as a feaure, we should check for duplicates across only the measurement and class columns."
   ]
  },
  {
   "cell_type": "code",
   "execution_count": 6,
   "metadata": {},
   "outputs": [
    {
     "name": "stdout",
     "output_type": "stream",
     "text": [
      "(449, 11)\n"
     ]
    }
   ],
   "source": [
    "bc_clean.drop_duplicates(subset=columns[1:], inplace=True)\n",
    "print(bc_clean.shape)"
   ]
  },
  {
   "cell_type": "markdown",
   "metadata": {},
   "source": [
    "## Model Prep / Spot Check"
   ]
  },
  {
   "cell_type": "markdown",
   "metadata": {},
   "source": [
    "**Feature and class matrices**"
   ]
  },
  {
   "cell_type": "code",
   "execution_count": 7,
   "metadata": {},
   "outputs": [],
   "source": [
    "bc_clean = bc_clean.reset_index(drop=True)\n",
    "bc_clean['class'] = bc_clean['class'].replace({2:0, 4:1})\n",
    "train_X = bc_clean.loc[:, 'thickness':'mitoses']\n",
    "train_y = bc_clean.loc[:, 'class']"
   ]
  },
  {
   "cell_type": "markdown",
   "metadata": {},
   "source": [
    "**Test harness**  \n",
    "This will evaluate several models using 10-fold cross-validation and display the results of the model metrics. This will allow us to decide on a model in which to focus for optimization. We are looking for the model with the combination of high accuracy and low variance (std. dev. of accuracy)."
   ]
  },
  {
   "cell_type": "code",
   "execution_count": 8,
   "metadata": {},
   "outputs": [
    {
     "data": {
      "text/html": [
       "<div>\n",
       "<style scoped>\n",
       "    .dataframe tbody tr th:only-of-type {\n",
       "        vertical-align: middle;\n",
       "    }\n",
       "\n",
       "    .dataframe tbody tr th {\n",
       "        vertical-align: top;\n",
       "    }\n",
       "\n",
       "    .dataframe thead th {\n",
       "        text-align: right;\n",
       "    }\n",
       "</style>\n",
       "<table border=\"1\" class=\"dataframe\">\n",
       "  <thead>\n",
       "    <tr style=\"text-align: right;\">\n",
       "      <th></th>\n",
       "      <th>Name</th>\n",
       "      <th>Accuracy</th>\n",
       "      <th>Std. Dev.</th>\n",
       "      <th>Precision</th>\n",
       "      <th>f1</th>\n",
       "    </tr>\n",
       "  </thead>\n",
       "  <tbody>\n",
       "    <tr>\n",
       "      <th>0</th>\n",
       "      <td>Logistic Regression</td>\n",
       "      <td>0.951111</td>\n",
       "      <td>0.035556</td>\n",
       "      <td>0.956737</td>\n",
       "      <td>0.953750</td>\n",
       "    </tr>\n",
       "    <tr>\n",
       "      <th>1</th>\n",
       "      <td>k-Nearest Neighbor</td>\n",
       "      <td>0.951010</td>\n",
       "      <td>0.040724</td>\n",
       "      <td>0.952138</td>\n",
       "      <td>0.953443</td>\n",
       "    </tr>\n",
       "    <tr>\n",
       "      <th>2</th>\n",
       "      <td>Random Forest</td>\n",
       "      <td>0.957727</td>\n",
       "      <td>0.033599</td>\n",
       "      <td>0.957147</td>\n",
       "      <td>0.960517</td>\n",
       "    </tr>\n",
       "    <tr>\n",
       "      <th>3</th>\n",
       "      <td>Naive Bayes</td>\n",
       "      <td>0.946566</td>\n",
       "      <td>0.030115</td>\n",
       "      <td>0.938191</td>\n",
       "      <td>0.950726</td>\n",
       "    </tr>\n",
       "    <tr>\n",
       "      <th>4</th>\n",
       "      <td>Support Vector Machines</td>\n",
       "      <td>0.951061</td>\n",
       "      <td>0.032619</td>\n",
       "      <td>0.945176</td>\n",
       "      <td>0.954406</td>\n",
       "    </tr>\n",
       "  </tbody>\n",
       "</table>\n",
       "</div>"
      ],
      "text/plain": [
       "                      Name  Accuracy  Std. Dev.  Precision        f1\n",
       "0      Logistic Regression  0.951111   0.035556   0.956737  0.953750\n",
       "1       k-Nearest Neighbor  0.951010   0.040724   0.952138  0.953443\n",
       "2            Random Forest  0.957727   0.033599   0.957147  0.960517\n",
       "3              Naive Bayes  0.946566   0.030115   0.938191  0.950726\n",
       "4  Support Vector Machines  0.951061   0.032619   0.945176  0.954406"
      ]
     },
     "execution_count": 8,
     "metadata": {},
     "output_type": "execute_result"
    }
   ],
   "source": [
    "# create model list for evaluation; name, model definition\n",
    "models = []\n",
    "models.append(('Logistic Regression', 'LR', LogisticRegression(max_iter=1000)))\n",
    "models.append(('k-Nearest Neighbor', 'KNN', KNeighborsClassifier()))\n",
    "models.append(('Random Forest', 'RF', RandomForestClassifier()))\n",
    "models.append(('Naive Bayes', 'NB', GaussianNB()))\n",
    "models.append(('Support Vector Machines', 'SVC', SVC()))\n",
    "\n",
    "# append all models\n",
    "\n",
    "# metric names: https://scikit-learn.org/stable/modules/model_evaluation.html\n",
    "metrics = ['accuracy', 'precision', 'f1']\n",
    "test_harness_results = pd.DataFrame(columns=['Name', 'Accuracy', 'Std. Dev.', 'Precision', 'f1'])\n",
    "plot_values = []\n",
    "plot_labels = []\n",
    "for name, short, model in models:\n",
    "    cv_results = cross_validate(model, train_X, train_y, cv=10, scoring=metrics)\n",
    "    test_harness_results = test_harness_results.append({'Name':name, 'Accuracy':cv_results['test_accuracy'].mean(), 'Std. Dev.':cv_results['test_accuracy'].std(), \n",
    "                                                        'Precision':cv_results['test_precision'].mean(), 'f1':cv_results['test_f1'].mean()}, ignore_index=True)\n",
    "    plot_labels.append(short)\n",
    "    plot_values.append(cv_results['test_accuracy'])\n",
    "test_harness_results   "
   ]
  },
  {
   "cell_type": "code",
   "execution_count": 9,
   "metadata": {},
   "outputs": [
    {
     "data": {
      "image/png": "[encoded data removed]",
      "text/plain": [
       "<Figure size 432x288 with 1 Axes>"
      ]
     },
     "metadata": {
      "needs_background": "light"
     },
     "output_type": "display_data"
    }
   ],
   "source": [
    "fig = plt.figure()\n",
    "fig.suptitle('Model Comparison')\n",
    "ax = fig.add_subplot(111)\n",
    "plt.boxplot(plot_values)\n",
    "ax.set_xticklabels(plot_labels)\n",
    "plt.show()"
   ]
  },
  {
   "cell_type": "markdown",
   "metadata": {},
   "source": [
    "### Model spot-check conclusions  \n",
    "* All of the models have good accuracy\n",
    "* Random Forest has the highest accuracy but a fairly large variance\n",
    "* SVC and NB are very close in accuracy and variance\n",
    "* SVC has slightly better precision and f1-score than NB. We will optimize a SVC for our production model"
   ]
  },
  {
   "cell_type": "markdown",
   "metadata": {},
   "source": [
    "## Model Optimization  \n",
    "Perform a bayesian seach optimization on the SVC hyperparameters  \n",
    "Optimization will execute 32 runs, each with 5-fold cross-validation to find the best performing hyperparameters for the model"
   ]
  },
  {
   "cell_type": "code",
   "execution_count": 13,
   "metadata": {},
   "outputs": [
    {
     "name": "stdout",
     "output_type": "stream",
     "text": [
      "val. score: 0.9464285714285714\n",
      "test score: 0.9734513274336283\n"
     ]
    }
   ],
   "source": [
    "# split data\n",
    "X_train, X_test, y_train, y_test = train_test_split(train_X, train_y, train_size=0.75, test_size=.25, random_state=123)\n",
    "\n",
    "# optimize hyperparameters\n",
    "opt = BayesSearchCV(\n",
    "    SVC(),\n",
    "    {\n",
    "        'C': (1e-6, 1e+6, 'log-uniform'),\n",
    "        'gamma': (1e-6, 1e+1, 'log-uniform'),\n",
    "        'degree': (1, 8),  # integer valued parameter\n",
    "        'kernel': ['linear', 'poly', 'rbf'],  # categorical parameter\n",
    "    },\n",
    "    n_iter=10,\n",
    "    cv=3\n",
    ")\n",
    "\n",
    "opt.fit(X_train, y_train)\n",
    "\n",
    "print(\"val. score: %s\" % opt.best_score_)\n",
    "print(\"test score: %s\" % opt.score(X_test, y_test))"
   ]
  },
  {
   "cell_type": "markdown",
   "metadata": {},
   "source": [
    "**Conclusion:**  \n",
    "The model optimization has improved model accuracy by 2%.  \n",
    "The generalized accuracy on a holdout dataset is now 97.3%."
   ]
  },
  {
   "cell_type": "markdown",
   "metadata": {},
   "source": [
    "## Model Metrics  \n",
    "The plots below show model performance as measured on a holdout dataset.  \n",
    "**Confusion matrix**"
   ]
  },
  {
   "cell_type": "code",
   "execution_count": 16,
   "metadata": {},
   "outputs": [
    {
     "data": {
      "image/png": "[encoded data removed]",
      "text/plain": [
       "<Figure size 432x288 with 2 Axes>"
      ]
     },
     "metadata": {
      "needs_background": "light"
     },
     "output_type": "display_data"
    }
   ],
   "source": [
    "plot_confusion_matrix(opt, X_test, y_test);"
   ]
  },
  {
   "cell_type": "markdown",
   "metadata": {},
   "source": [
    "**ROC Curve**"
   ]
  },
  {
   "cell_type": "code",
   "execution_count": 18,
   "metadata": {},
   "outputs": [
    {
     "data": {
      "image/png": "[encoded data removed]",
      "text/plain": [
       "<Figure size 432x288 with 1 Axes>"
      ]
     },
     "metadata": {
      "needs_background": "light"
     },
     "output_type": "display_data"
    }
   ],
   "source": [
    "plot_roc_curve(opt, X_test, y_test);"
   ]
  },
  {
   "cell_type": "markdown",
   "metadata": {},
   "source": [
    "## Model Export  \n",
    "Export optimized model (opt) as a pickle file. File will be created in current directory and named SVC_BCancer.pkl."
   ]
  },
  {
   "cell_type": "code",
   "execution_count": null,
   "metadata": {},
   "outputs": [],
   "source": [
    "pickle.dump(opt, open('SVC_BCancer.pkl', 'wb'))"
   ]
  }
 ],
 "metadata": {
  "kernelspec": {
   "display_name": "Python 3",
   "language": "python",
   "name": "python3"
  },
  "language_info": {
   "codemirror_mode": {
    "name": "ipython",
    "version": 3
   },
   "file_extension": ".py",
   "mimetype": "text/x-python",
   "name": "python",
   "nbconvert_exporter": "python",
   "pygments_lexer": "ipython3",
   "version": "3.8.5"
  }
 },
 "nbformat": 4,
 "nbformat_minor": 4
}
